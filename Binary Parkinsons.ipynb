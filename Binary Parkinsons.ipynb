{
 "cells": [
  {
   "cell_type": "code",
   "execution_count": 45,
   "metadata": {},
   "outputs": [
    {
     "data": {
      "text/html": [
       "<div>\n",
       "<style scoped>\n",
       "    .dataframe tbody tr th:only-of-type {\n",
       "        vertical-align: middle;\n",
       "    }\n",
       "\n",
       "    .dataframe tbody tr th {\n",
       "        vertical-align: top;\n",
       "    }\n",
       "\n",
       "    .dataframe thead th {\n",
       "        text-align: right;\n",
       "    }\n",
       "</style>\n",
       "<table border=\"1\" class=\"dataframe\">\n",
       "  <thead>\n",
       "    <tr style=\"text-align: right;\">\n",
       "      <th></th>\n",
       "      <th>id</th>\n",
       "      <th>gender</th>\n",
       "      <th>PPE</th>\n",
       "      <th>DFA</th>\n",
       "      <th>RPDE</th>\n",
       "      <th>numPulses</th>\n",
       "      <th>numPeriodsPulses</th>\n",
       "      <th>meanPeriodPulses</th>\n",
       "      <th>stdDevPeriodPulses</th>\n",
       "      <th>locPctJitter</th>\n",
       "      <th>...</th>\n",
       "      <th>tqwt_kurtosisValue_dec_28</th>\n",
       "      <th>tqwt_kurtosisValue_dec_29</th>\n",
       "      <th>tqwt_kurtosisValue_dec_30</th>\n",
       "      <th>tqwt_kurtosisValue_dec_31</th>\n",
       "      <th>tqwt_kurtosisValue_dec_32</th>\n",
       "      <th>tqwt_kurtosisValue_dec_33</th>\n",
       "      <th>tqwt_kurtosisValue_dec_34</th>\n",
       "      <th>tqwt_kurtosisValue_dec_35</th>\n",
       "      <th>tqwt_kurtosisValue_dec_36</th>\n",
       "      <th>class</th>\n",
       "    </tr>\n",
       "  </thead>\n",
       "  <tbody>\n",
       "    <tr>\n",
       "      <th>0</th>\n",
       "      <td>0</td>\n",
       "      <td>1</td>\n",
       "      <td>0.85247</td>\n",
       "      <td>0.71826</td>\n",
       "      <td>0.57227</td>\n",
       "      <td>240</td>\n",
       "      <td>239</td>\n",
       "      <td>0.008064</td>\n",
       "      <td>0.000087</td>\n",
       "      <td>0.00218</td>\n",
       "      <td>...</td>\n",
       "      <td>1.5620</td>\n",
       "      <td>2.6445</td>\n",
       "      <td>3.8686</td>\n",
       "      <td>4.2105</td>\n",
       "      <td>5.1221</td>\n",
       "      <td>4.4625</td>\n",
       "      <td>2.6202</td>\n",
       "      <td>3.0004</td>\n",
       "      <td>18.9405</td>\n",
       "      <td>1</td>\n",
       "    </tr>\n",
       "    <tr>\n",
       "      <th>1</th>\n",
       "      <td>0</td>\n",
       "      <td>1</td>\n",
       "      <td>0.76686</td>\n",
       "      <td>0.69481</td>\n",
       "      <td>0.53966</td>\n",
       "      <td>234</td>\n",
       "      <td>233</td>\n",
       "      <td>0.008258</td>\n",
       "      <td>0.000073</td>\n",
       "      <td>0.00195</td>\n",
       "      <td>...</td>\n",
       "      <td>1.5589</td>\n",
       "      <td>3.6107</td>\n",
       "      <td>23.5155</td>\n",
       "      <td>14.1962</td>\n",
       "      <td>11.0261</td>\n",
       "      <td>9.5082</td>\n",
       "      <td>6.5245</td>\n",
       "      <td>6.3431</td>\n",
       "      <td>45.1780</td>\n",
       "      <td>1</td>\n",
       "    </tr>\n",
       "    <tr>\n",
       "      <th>2</th>\n",
       "      <td>0</td>\n",
       "      <td>1</td>\n",
       "      <td>0.85083</td>\n",
       "      <td>0.67604</td>\n",
       "      <td>0.58982</td>\n",
       "      <td>232</td>\n",
       "      <td>231</td>\n",
       "      <td>0.008340</td>\n",
       "      <td>0.000060</td>\n",
       "      <td>0.00176</td>\n",
       "      <td>...</td>\n",
       "      <td>1.5643</td>\n",
       "      <td>2.3308</td>\n",
       "      <td>9.4959</td>\n",
       "      <td>10.7458</td>\n",
       "      <td>11.0177</td>\n",
       "      <td>4.8066</td>\n",
       "      <td>2.9199</td>\n",
       "      <td>3.1495</td>\n",
       "      <td>4.7666</td>\n",
       "      <td>1</td>\n",
       "    </tr>\n",
       "    <tr>\n",
       "      <th>3</th>\n",
       "      <td>1</td>\n",
       "      <td>0</td>\n",
       "      <td>0.41121</td>\n",
       "      <td>0.79672</td>\n",
       "      <td>0.59257</td>\n",
       "      <td>178</td>\n",
       "      <td>177</td>\n",
       "      <td>0.010858</td>\n",
       "      <td>0.000183</td>\n",
       "      <td>0.00419</td>\n",
       "      <td>...</td>\n",
       "      <td>3.7805</td>\n",
       "      <td>3.5664</td>\n",
       "      <td>5.2558</td>\n",
       "      <td>14.0403</td>\n",
       "      <td>4.2235</td>\n",
       "      <td>4.6857</td>\n",
       "      <td>4.8460</td>\n",
       "      <td>6.2650</td>\n",
       "      <td>4.0603</td>\n",
       "      <td>1</td>\n",
       "    </tr>\n",
       "    <tr>\n",
       "      <th>4</th>\n",
       "      <td>1</td>\n",
       "      <td>0</td>\n",
       "      <td>0.32790</td>\n",
       "      <td>0.79782</td>\n",
       "      <td>0.53028</td>\n",
       "      <td>236</td>\n",
       "      <td>235</td>\n",
       "      <td>0.008162</td>\n",
       "      <td>0.002669</td>\n",
       "      <td>0.00535</td>\n",
       "      <td>...</td>\n",
       "      <td>6.1727</td>\n",
       "      <td>5.8416</td>\n",
       "      <td>6.0805</td>\n",
       "      <td>5.7621</td>\n",
       "      <td>7.7817</td>\n",
       "      <td>11.6891</td>\n",
       "      <td>8.2103</td>\n",
       "      <td>5.0559</td>\n",
       "      <td>6.1164</td>\n",
       "      <td>1</td>\n",
       "    </tr>\n",
       "  </tbody>\n",
       "</table>\n",
       "<p>5 rows × 755 columns</p>\n",
       "</div>"
      ],
      "text/plain": [
       "   id  gender      PPE      DFA     RPDE  numPulses  numPeriodsPulses  \\\n",
       "0   0       1  0.85247  0.71826  0.57227        240               239   \n",
       "1   0       1  0.76686  0.69481  0.53966        234               233   \n",
       "2   0       1  0.85083  0.67604  0.58982        232               231   \n",
       "3   1       0  0.41121  0.79672  0.59257        178               177   \n",
       "4   1       0  0.32790  0.79782  0.53028        236               235   \n",
       "\n",
       "   meanPeriodPulses  stdDevPeriodPulses  locPctJitter  ...  \\\n",
       "0          0.008064            0.000087       0.00218  ...   \n",
       "1          0.008258            0.000073       0.00195  ...   \n",
       "2          0.008340            0.000060       0.00176  ...   \n",
       "3          0.010858            0.000183       0.00419  ...   \n",
       "4          0.008162            0.002669       0.00535  ...   \n",
       "\n",
       "   tqwt_kurtosisValue_dec_28  tqwt_kurtosisValue_dec_29  \\\n",
       "0                     1.5620                     2.6445   \n",
       "1                     1.5589                     3.6107   \n",
       "2                     1.5643                     2.3308   \n",
       "3                     3.7805                     3.5664   \n",
       "4                     6.1727                     5.8416   \n",
       "\n",
       "   tqwt_kurtosisValue_dec_30  tqwt_kurtosisValue_dec_31  \\\n",
       "0                     3.8686                     4.2105   \n",
       "1                    23.5155                    14.1962   \n",
       "2                     9.4959                    10.7458   \n",
       "3                     5.2558                    14.0403   \n",
       "4                     6.0805                     5.7621   \n",
       "\n",
       "   tqwt_kurtosisValue_dec_32  tqwt_kurtosisValue_dec_33  \\\n",
       "0                     5.1221                     4.4625   \n",
       "1                    11.0261                     9.5082   \n",
       "2                    11.0177                     4.8066   \n",
       "3                     4.2235                     4.6857   \n",
       "4                     7.7817                    11.6891   \n",
       "\n",
       "   tqwt_kurtosisValue_dec_34  tqwt_kurtosisValue_dec_35  \\\n",
       "0                     2.6202                     3.0004   \n",
       "1                     6.5245                     6.3431   \n",
       "2                     2.9199                     3.1495   \n",
       "3                     4.8460                     6.2650   \n",
       "4                     8.2103                     5.0559   \n",
       "\n",
       "   tqwt_kurtosisValue_dec_36  class  \n",
       "0                    18.9405      1  \n",
       "1                    45.1780      1  \n",
       "2                     4.7666      1  \n",
       "3                     4.0603      1  \n",
       "4                     6.1164      1  \n",
       "\n",
       "[5 rows x 755 columns]"
      ]
     },
     "execution_count": 45,
     "metadata": {},
     "output_type": "execute_result"
    }
   ],
   "source": [
    "\n",
    "import os, types\n",
    "import pandas as pd\n",
    "from botocore.client import Config\n",
    "import ibm_boto3\n",
    "import matplotlib.pyplot as plt\n",
    "import seaborn as sns\n",
    "\n",
    "def __iter__(self): return 0\n",
    "\n",
    "# @hidden_cell\n",
    "# The following code accesses a file in your IBM Cloud Object Storage. It includes your credentials.\n",
    "# You might want to remove those credentials before you share the notebook.\n",
    "\n",
    "if os.environ.get('RUNTIME_ENV_LOCATION_TYPE') == 'external':\n",
    "    endpoint_fd7a3fcd2dda49b8a8f8507ca635f81e = 'https://s3.eu-geo.objectstorage.softlayer.net'\n",
    "else:\n",
    "    endpoint_fd7a3fcd2dda49b8a8f8507ca635f81e = 'https://s3.eu-geo.objectstorage.service.networklayer.com'\n",
    "\n",
    "client_fd7a3fcd2dda49b8a8f8507ca635f81e = ibm_boto3.client(service_name='s3',\n",
    "    ibm_api_key_id='mC4kc4LdEW6OWYmTQeOm1c9f0kojBxlGkwftfpWJ_pUT',\n",
    "    ibm_auth_endpoint=\"https://iam.cloud.ibm.com/oidc/token\",\n",
    "    config=Config(signature_version='oauth'),\n",
    "    endpoint_url=endpoint_fd7a3fcd2dda49b8a8f8507ca635f81e)\n",
    "\n",
    "body = client_fd7a3fcd2dda49b8a8f8507ca635f81e.get_object(Bucket='minorproject-donotdelete-pr-fyphfcxvpxslbo',Key='pd_speech_features.csv')['Body']\n",
    "# add missing __iter__ method, so pandas accepts body as file-like object\n",
    "if not hasattr(body, \"__iter__\"): body.__iter__ = types.MethodType( __iter__, body )\n",
    "\n",
    "df = pd.read_csv(body)\n",
    "df.head()\n"
   ]
  },
  {
   "cell_type": "code",
   "execution_count": 46,
   "metadata": {},
   "outputs": [
    {
     "data": {
      "text/plain": [
       "(756, 755)"
      ]
     },
     "execution_count": 46,
     "metadata": {},
     "output_type": "execute_result"
    }
   ],
   "source": [
    "df.shape"
   ]
  },
  {
   "cell_type": "code",
   "execution_count": 47,
   "metadata": {},
   "outputs": [
    {
     "data": {
      "text/plain": [
       "1    564\n",
       "0    192\n",
       "Name: class, dtype: int64"
      ]
     },
     "execution_count": 47,
     "metadata": {},
     "output_type": "execute_result"
    }
   ],
   "source": [
    "df.shape\n",
    "df['class'].value_counts()"
   ]
  },
  {
   "cell_type": "code",
   "execution_count": 48,
   "metadata": {},
   "outputs": [
    {
     "name": "stdout",
     "output_type": "stream",
     "text": [
      "No of duplicate ids = 504\n"
     ]
    }
   ],
   "source": [
    "dup=len(df['id'])-len(df['id'].drop_duplicates())\n",
    "print(\"No of duplicate ids = \"+str(dup))"
   ]
  },
  {
   "cell_type": "code",
   "execution_count": 49,
   "metadata": {},
   "outputs": [
    {
     "data": {
      "text/html": [
       "<div>\n",
       "<style scoped>\n",
       "    .dataframe tbody tr th:only-of-type {\n",
       "        vertical-align: middle;\n",
       "    }\n",
       "\n",
       "    .dataframe tbody tr th {\n",
       "        vertical-align: top;\n",
       "    }\n",
       "\n",
       "    .dataframe thead th {\n",
       "        text-align: right;\n",
       "    }\n",
       "</style>\n",
       "<table border=\"1\" class=\"dataframe\">\n",
       "  <thead>\n",
       "    <tr style=\"text-align: right;\">\n",
       "      <th></th>\n",
       "      <th>id</th>\n",
       "      <th>gender</th>\n",
       "      <th>PPE</th>\n",
       "      <th>DFA</th>\n",
       "      <th>RPDE</th>\n",
       "      <th>numPulses</th>\n",
       "      <th>numPeriodsPulses</th>\n",
       "      <th>meanPeriodPulses</th>\n",
       "      <th>stdDevPeriodPulses</th>\n",
       "      <th>locPctJitter</th>\n",
       "      <th>...</th>\n",
       "      <th>tqwt_kurtosisValue_dec_28</th>\n",
       "      <th>tqwt_kurtosisValue_dec_29</th>\n",
       "      <th>tqwt_kurtosisValue_dec_30</th>\n",
       "      <th>tqwt_kurtosisValue_dec_31</th>\n",
       "      <th>tqwt_kurtosisValue_dec_32</th>\n",
       "      <th>tqwt_kurtosisValue_dec_33</th>\n",
       "      <th>tqwt_kurtosisValue_dec_34</th>\n",
       "      <th>tqwt_kurtosisValue_dec_35</th>\n",
       "      <th>tqwt_kurtosisValue_dec_36</th>\n",
       "      <th>class</th>\n",
       "    </tr>\n",
       "  </thead>\n",
       "  <tbody>\n",
       "    <tr>\n",
       "      <th>count</th>\n",
       "      <td>756.000000</td>\n",
       "      <td>756.000000</td>\n",
       "      <td>756.000000</td>\n",
       "      <td>756.000000</td>\n",
       "      <td>756.000000</td>\n",
       "      <td>756.000000</td>\n",
       "      <td>756.000000</td>\n",
       "      <td>756.000000</td>\n",
       "      <td>756.000000</td>\n",
       "      <td>756.000000</td>\n",
       "      <td>...</td>\n",
       "      <td>756.000000</td>\n",
       "      <td>756.000000</td>\n",
       "      <td>756.000000</td>\n",
       "      <td>756.000000</td>\n",
       "      <td>756.000000</td>\n",
       "      <td>756.000000</td>\n",
       "      <td>756.000000</td>\n",
       "      <td>756.000000</td>\n",
       "      <td>756.000000</td>\n",
       "      <td>756.000000</td>\n",
       "    </tr>\n",
       "    <tr>\n",
       "      <th>mean</th>\n",
       "      <td>125.500000</td>\n",
       "      <td>0.515873</td>\n",
       "      <td>0.746284</td>\n",
       "      <td>0.700414</td>\n",
       "      <td>0.489058</td>\n",
       "      <td>323.972222</td>\n",
       "      <td>322.678571</td>\n",
       "      <td>0.006360</td>\n",
       "      <td>0.000383</td>\n",
       "      <td>0.002324</td>\n",
       "      <td>...</td>\n",
       "      <td>26.237251</td>\n",
       "      <td>22.840337</td>\n",
       "      <td>18.587888</td>\n",
       "      <td>13.872018</td>\n",
       "      <td>12.218953</td>\n",
       "      <td>12.375335</td>\n",
       "      <td>14.799230</td>\n",
       "      <td>14.751559</td>\n",
       "      <td>31.481110</td>\n",
       "      <td>0.746032</td>\n",
       "    </tr>\n",
       "    <tr>\n",
       "      <th>std</th>\n",
       "      <td>72.793721</td>\n",
       "      <td>0.500079</td>\n",
       "      <td>0.169294</td>\n",
       "      <td>0.069718</td>\n",
       "      <td>0.137442</td>\n",
       "      <td>99.219059</td>\n",
       "      <td>99.402499</td>\n",
       "      <td>0.001826</td>\n",
       "      <td>0.000728</td>\n",
       "      <td>0.002628</td>\n",
       "      <td>...</td>\n",
       "      <td>42.220693</td>\n",
       "      <td>32.626464</td>\n",
       "      <td>25.537464</td>\n",
       "      <td>20.046029</td>\n",
       "      <td>17.783642</td>\n",
       "      <td>16.341665</td>\n",
       "      <td>15.722502</td>\n",
       "      <td>14.432979</td>\n",
       "      <td>34.230991</td>\n",
       "      <td>0.435568</td>\n",
       "    </tr>\n",
       "    <tr>\n",
       "      <th>min</th>\n",
       "      <td>0.000000</td>\n",
       "      <td>0.000000</td>\n",
       "      <td>0.041551</td>\n",
       "      <td>0.543500</td>\n",
       "      <td>0.154300</td>\n",
       "      <td>2.000000</td>\n",
       "      <td>1.000000</td>\n",
       "      <td>0.002107</td>\n",
       "      <td>0.000011</td>\n",
       "      <td>0.000210</td>\n",
       "      <td>...</td>\n",
       "      <td>1.509800</td>\n",
       "      <td>1.531700</td>\n",
       "      <td>1.582900</td>\n",
       "      <td>1.747200</td>\n",
       "      <td>1.789500</td>\n",
       "      <td>1.628700</td>\n",
       "      <td>1.861700</td>\n",
       "      <td>1.955900</td>\n",
       "      <td>2.364000</td>\n",
       "      <td>0.000000</td>\n",
       "    </tr>\n",
       "    <tr>\n",
       "      <th>25%</th>\n",
       "      <td>62.750000</td>\n",
       "      <td>0.000000</td>\n",
       "      <td>0.762833</td>\n",
       "      <td>0.647053</td>\n",
       "      <td>0.386537</td>\n",
       "      <td>251.000000</td>\n",
       "      <td>250.000000</td>\n",
       "      <td>0.005003</td>\n",
       "      <td>0.000049</td>\n",
       "      <td>0.000970</td>\n",
       "      <td>...</td>\n",
       "      <td>2.408675</td>\n",
       "      <td>3.452800</td>\n",
       "      <td>3.354825</td>\n",
       "      <td>3.077450</td>\n",
       "      <td>2.937025</td>\n",
       "      <td>3.114375</td>\n",
       "      <td>3.665925</td>\n",
       "      <td>3.741275</td>\n",
       "      <td>3.948750</td>\n",
       "      <td>0.000000</td>\n",
       "    </tr>\n",
       "    <tr>\n",
       "      <th>50%</th>\n",
       "      <td>125.500000</td>\n",
       "      <td>1.000000</td>\n",
       "      <td>0.809655</td>\n",
       "      <td>0.700525</td>\n",
       "      <td>0.484355</td>\n",
       "      <td>317.000000</td>\n",
       "      <td>316.000000</td>\n",
       "      <td>0.006048</td>\n",
       "      <td>0.000077</td>\n",
       "      <td>0.001495</td>\n",
       "      <td>...</td>\n",
       "      <td>5.586300</td>\n",
       "      <td>7.062750</td>\n",
       "      <td>6.077400</td>\n",
       "      <td>4.770850</td>\n",
       "      <td>4.300450</td>\n",
       "      <td>4.741450</td>\n",
       "      <td>6.725700</td>\n",
       "      <td>7.334250</td>\n",
       "      <td>10.637250</td>\n",
       "      <td>1.000000</td>\n",
       "    </tr>\n",
       "    <tr>\n",
       "      <th>75%</th>\n",
       "      <td>188.250000</td>\n",
       "      <td>1.000000</td>\n",
       "      <td>0.834315</td>\n",
       "      <td>0.754985</td>\n",
       "      <td>0.586515</td>\n",
       "      <td>384.250000</td>\n",
       "      <td>383.250000</td>\n",
       "      <td>0.007528</td>\n",
       "      <td>0.000171</td>\n",
       "      <td>0.002520</td>\n",
       "      <td>...</td>\n",
       "      <td>28.958075</td>\n",
       "      <td>29.830850</td>\n",
       "      <td>21.944050</td>\n",
       "      <td>13.188000</td>\n",
       "      <td>10.876150</td>\n",
       "      <td>12.201325</td>\n",
       "      <td>21.922050</td>\n",
       "      <td>22.495175</td>\n",
       "      <td>61.125325</td>\n",
       "      <td>1.000000</td>\n",
       "    </tr>\n",
       "    <tr>\n",
       "      <th>max</th>\n",
       "      <td>251.000000</td>\n",
       "      <td>1.000000</td>\n",
       "      <td>0.907660</td>\n",
       "      <td>0.852640</td>\n",
       "      <td>0.871230</td>\n",
       "      <td>907.000000</td>\n",
       "      <td>905.000000</td>\n",
       "      <td>0.012966</td>\n",
       "      <td>0.003483</td>\n",
       "      <td>0.027750</td>\n",
       "      <td>...</td>\n",
       "      <td>239.788800</td>\n",
       "      <td>203.311300</td>\n",
       "      <td>121.542900</td>\n",
       "      <td>102.207000</td>\n",
       "      <td>85.571700</td>\n",
       "      <td>73.532200</td>\n",
       "      <td>62.007300</td>\n",
       "      <td>57.544300</td>\n",
       "      <td>156.423700</td>\n",
       "      <td>1.000000</td>\n",
       "    </tr>\n",
       "  </tbody>\n",
       "</table>\n",
       "<p>8 rows × 755 columns</p>\n",
       "</div>"
      ],
      "text/plain": [
       "               id      gender         PPE         DFA        RPDE   numPulses  \\\n",
       "count  756.000000  756.000000  756.000000  756.000000  756.000000  756.000000   \n",
       "mean   125.500000    0.515873    0.746284    0.700414    0.489058  323.972222   \n",
       "std     72.793721    0.500079    0.169294    0.069718    0.137442   99.219059   \n",
       "min      0.000000    0.000000    0.041551    0.543500    0.154300    2.000000   \n",
       "25%     62.750000    0.000000    0.762833    0.647053    0.386537  251.000000   \n",
       "50%    125.500000    1.000000    0.809655    0.700525    0.484355  317.000000   \n",
       "75%    188.250000    1.000000    0.834315    0.754985    0.586515  384.250000   \n",
       "max    251.000000    1.000000    0.907660    0.852640    0.871230  907.000000   \n",
       "\n",
       "       numPeriodsPulses  meanPeriodPulses  stdDevPeriodPulses  locPctJitter  \\\n",
       "count        756.000000        756.000000          756.000000    756.000000   \n",
       "mean         322.678571          0.006360            0.000383      0.002324   \n",
       "std           99.402499          0.001826            0.000728      0.002628   \n",
       "min            1.000000          0.002107            0.000011      0.000210   \n",
       "25%          250.000000          0.005003            0.000049      0.000970   \n",
       "50%          316.000000          0.006048            0.000077      0.001495   \n",
       "75%          383.250000          0.007528            0.000171      0.002520   \n",
       "max          905.000000          0.012966            0.003483      0.027750   \n",
       "\n",
       "       ...  tqwt_kurtosisValue_dec_28  tqwt_kurtosisValue_dec_29  \\\n",
       "count  ...                 756.000000                 756.000000   \n",
       "mean   ...                  26.237251                  22.840337   \n",
       "std    ...                  42.220693                  32.626464   \n",
       "min    ...                   1.509800                   1.531700   \n",
       "25%    ...                   2.408675                   3.452800   \n",
       "50%    ...                   5.586300                   7.062750   \n",
       "75%    ...                  28.958075                  29.830850   \n",
       "max    ...                 239.788800                 203.311300   \n",
       "\n",
       "       tqwt_kurtosisValue_dec_30  tqwt_kurtosisValue_dec_31  \\\n",
       "count                 756.000000                 756.000000   \n",
       "mean                   18.587888                  13.872018   \n",
       "std                    25.537464                  20.046029   \n",
       "min                     1.582900                   1.747200   \n",
       "25%                     3.354825                   3.077450   \n",
       "50%                     6.077400                   4.770850   \n",
       "75%                    21.944050                  13.188000   \n",
       "max                   121.542900                 102.207000   \n",
       "\n",
       "       tqwt_kurtosisValue_dec_32  tqwt_kurtosisValue_dec_33  \\\n",
       "count                 756.000000                 756.000000   \n",
       "mean                   12.218953                  12.375335   \n",
       "std                    17.783642                  16.341665   \n",
       "min                     1.789500                   1.628700   \n",
       "25%                     2.937025                   3.114375   \n",
       "50%                     4.300450                   4.741450   \n",
       "75%                    10.876150                  12.201325   \n",
       "max                    85.571700                  73.532200   \n",
       "\n",
       "       tqwt_kurtosisValue_dec_34  tqwt_kurtosisValue_dec_35  \\\n",
       "count                 756.000000                 756.000000   \n",
       "mean                   14.799230                  14.751559   \n",
       "std                    15.722502                  14.432979   \n",
       "min                     1.861700                   1.955900   \n",
       "25%                     3.665925                   3.741275   \n",
       "50%                     6.725700                   7.334250   \n",
       "75%                    21.922050                  22.495175   \n",
       "max                    62.007300                  57.544300   \n",
       "\n",
       "       tqwt_kurtosisValue_dec_36       class  \n",
       "count                 756.000000  756.000000  \n",
       "mean                   31.481110    0.746032  \n",
       "std                    34.230991    0.435568  \n",
       "min                     2.364000    0.000000  \n",
       "25%                     3.948750    0.000000  \n",
       "50%                    10.637250    1.000000  \n",
       "75%                    61.125325    1.000000  \n",
       "max                   156.423700    1.000000  \n",
       "\n",
       "[8 rows x 755 columns]"
      ]
     },
     "execution_count": 49,
     "metadata": {},
     "output_type": "execute_result"
    }
   ],
   "source": [
    "df.describe()"
   ]
  },
  {
   "cell_type": "code",
   "execution_count": 50,
   "metadata": {},
   "outputs": [
    {
     "data": {
      "text/plain": [
       "class                            0\n",
       "det_LT_entropy_shannon_6_coef    0\n",
       "det_LT_entropy_log_5_coef        0\n",
       "det_LT_entropy_log_4_coef        0\n",
       "det_LT_entropy_log_3_coef        0\n",
       "                                ..\n",
       "tqwt_TKEO_std_dec_36             0\n",
       "tqwt_TKEO_std_dec_35             0\n",
       "tqwt_TKEO_std_dec_34             0\n",
       "tqwt_TKEO_std_dec_33             0\n",
       "id                               0\n",
       "Length: 755, dtype: int64"
      ]
     },
     "execution_count": 50,
     "metadata": {},
     "output_type": "execute_result"
    }
   ],
   "source": [
    "df.isnull().sum().sort_values(ascending=False)\n"
   ]
  },
  {
   "cell_type": "code",
   "execution_count": 51,
   "metadata": {},
   "outputs": [
    {
     "data": {
      "text/html": [
       "<div>\n",
       "<style scoped>\n",
       "    .dataframe tbody tr th:only-of-type {\n",
       "        vertical-align: middle;\n",
       "    }\n",
       "\n",
       "    .dataframe tbody tr th {\n",
       "        vertical-align: top;\n",
       "    }\n",
       "\n",
       "    .dataframe thead th {\n",
       "        text-align: right;\n",
       "    }\n",
       "</style>\n",
       "<table border=\"1\" class=\"dataframe\">\n",
       "  <thead>\n",
       "    <tr style=\"text-align: right;\">\n",
       "      <th></th>\n",
       "      <th>id</th>\n",
       "      <th>gender</th>\n",
       "      <th>PPE</th>\n",
       "      <th>DFA</th>\n",
       "      <th>RPDE</th>\n",
       "      <th>numPulses</th>\n",
       "      <th>numPeriodsPulses</th>\n",
       "      <th>meanPeriodPulses</th>\n",
       "      <th>stdDevPeriodPulses</th>\n",
       "      <th>locPctJitter</th>\n",
       "      <th>...</th>\n",
       "      <th>tqwt_kurtosisValue_dec_28</th>\n",
       "      <th>tqwt_kurtosisValue_dec_29</th>\n",
       "      <th>tqwt_kurtosisValue_dec_30</th>\n",
       "      <th>tqwt_kurtosisValue_dec_31</th>\n",
       "      <th>tqwt_kurtosisValue_dec_32</th>\n",
       "      <th>tqwt_kurtosisValue_dec_33</th>\n",
       "      <th>tqwt_kurtosisValue_dec_34</th>\n",
       "      <th>tqwt_kurtosisValue_dec_35</th>\n",
       "      <th>tqwt_kurtosisValue_dec_36</th>\n",
       "      <th>class</th>\n",
       "    </tr>\n",
       "  </thead>\n",
       "  <tbody>\n",
       "    <tr>\n",
       "      <th>id</th>\n",
       "      <td>1.000000</td>\n",
       "      <td>-0.133605</td>\n",
       "      <td>0.026667</td>\n",
       "      <td>0.041938</td>\n",
       "      <td>-0.084606</td>\n",
       "      <td>0.085828</td>\n",
       "      <td>0.085226</td>\n",
       "      <td>-0.100831</td>\n",
       "      <td>-0.060464</td>\n",
       "      <td>-0.052865</td>\n",
       "      <td>...</td>\n",
       "      <td>0.036897</td>\n",
       "      <td>0.016047</td>\n",
       "      <td>-0.023317</td>\n",
       "      <td>-0.045943</td>\n",
       "      <td>-0.041835</td>\n",
       "      <td>-0.053781</td>\n",
       "      <td>-0.058034</td>\n",
       "      <td>-0.057807</td>\n",
       "      <td>-0.055775</td>\n",
       "      <td>-0.111661</td>\n",
       "    </tr>\n",
       "    <tr>\n",
       "      <th>gender</th>\n",
       "      <td>-0.133605</td>\n",
       "      <td>1.000000</td>\n",
       "      <td>0.010175</td>\n",
       "      <td>0.099356</td>\n",
       "      <td>0.168321</td>\n",
       "      <td>-0.478367</td>\n",
       "      <td>-0.477710</td>\n",
       "      <td>0.460422</td>\n",
       "      <td>-0.110587</td>\n",
       "      <td>0.112004</td>\n",
       "      <td>...</td>\n",
       "      <td>-0.098689</td>\n",
       "      <td>0.000210</td>\n",
       "      <td>0.066091</td>\n",
       "      <td>0.083499</td>\n",
       "      <td>0.089793</td>\n",
       "      <td>0.107618</td>\n",
       "      <td>0.128936</td>\n",
       "      <td>0.107734</td>\n",
       "      <td>0.104828</td>\n",
       "      <td>0.182713</td>\n",
       "    </tr>\n",
       "    <tr>\n",
       "      <th>PPE</th>\n",
       "      <td>0.026667</td>\n",
       "      <td>0.010175</td>\n",
       "      <td>1.000000</td>\n",
       "      <td>-0.094775</td>\n",
       "      <td>-0.405558</td>\n",
       "      <td>0.191535</td>\n",
       "      <td>0.194098</td>\n",
       "      <td>-0.201907</td>\n",
       "      <td>-0.423660</td>\n",
       "      <td>-0.349053</td>\n",
       "      <td>...</td>\n",
       "      <td>0.144261</td>\n",
       "      <td>0.135544</td>\n",
       "      <td>0.091726</td>\n",
       "      <td>0.065035</td>\n",
       "      <td>0.044163</td>\n",
       "      <td>0.045755</td>\n",
       "      <td>0.046175</td>\n",
       "      <td>0.037385</td>\n",
       "      <td>0.039588</td>\n",
       "      <td>-0.072939</td>\n",
       "    </tr>\n",
       "    <tr>\n",
       "      <th>DFA</th>\n",
       "      <td>0.041938</td>\n",
       "      <td>0.099356</td>\n",
       "      <td>-0.094775</td>\n",
       "      <td>1.000000</td>\n",
       "      <td>0.155075</td>\n",
       "      <td>-0.286791</td>\n",
       "      <td>-0.286611</td>\n",
       "      <td>0.253708</td>\n",
       "      <td>0.084655</td>\n",
       "      <td>0.212120</td>\n",
       "      <td>...</td>\n",
       "      <td>-0.146325</td>\n",
       "      <td>-0.104456</td>\n",
       "      <td>-0.061129</td>\n",
       "      <td>-0.063451</td>\n",
       "      <td>-0.061845</td>\n",
       "      <td>-0.033914</td>\n",
       "      <td>0.043454</td>\n",
       "      <td>0.067843</td>\n",
       "      <td>0.116699</td>\n",
       "      <td>0.306070</td>\n",
       "    </tr>\n",
       "    <tr>\n",
       "      <th>RPDE</th>\n",
       "      <td>-0.084606</td>\n",
       "      <td>0.168321</td>\n",
       "      <td>-0.405558</td>\n",
       "      <td>0.155075</td>\n",
       "      <td>1.000000</td>\n",
       "      <td>-0.521193</td>\n",
       "      <td>-0.524839</td>\n",
       "      <td>0.506707</td>\n",
       "      <td>0.333545</td>\n",
       "      <td>0.614340</td>\n",
       "      <td>...</td>\n",
       "      <td>-0.315592</td>\n",
       "      <td>-0.278504</td>\n",
       "      <td>-0.148989</td>\n",
       "      <td>-0.101467</td>\n",
       "      <td>-0.098923</td>\n",
       "      <td>-0.097161</td>\n",
       "      <td>-0.036406</td>\n",
       "      <td>-0.018052</td>\n",
       "      <td>0.021945</td>\n",
       "      <td>0.247444</td>\n",
       "    </tr>\n",
       "    <tr>\n",
       "      <th>...</th>\n",
       "      <td>...</td>\n",
       "      <td>...</td>\n",
       "      <td>...</td>\n",
       "      <td>...</td>\n",
       "      <td>...</td>\n",
       "      <td>...</td>\n",
       "      <td>...</td>\n",
       "      <td>...</td>\n",
       "      <td>...</td>\n",
       "      <td>...</td>\n",
       "      <td>...</td>\n",
       "      <td>...</td>\n",
       "      <td>...</td>\n",
       "      <td>...</td>\n",
       "      <td>...</td>\n",
       "      <td>...</td>\n",
       "      <td>...</td>\n",
       "      <td>...</td>\n",
       "      <td>...</td>\n",
       "      <td>...</td>\n",
       "      <td>...</td>\n",
       "    </tr>\n",
       "    <tr>\n",
       "      <th>tqwt_kurtosisValue_dec_33</th>\n",
       "      <td>-0.053781</td>\n",
       "      <td>0.107618</td>\n",
       "      <td>0.045755</td>\n",
       "      <td>-0.033914</td>\n",
       "      <td>-0.097161</td>\n",
       "      <td>-0.047946</td>\n",
       "      <td>-0.047837</td>\n",
       "      <td>0.039487</td>\n",
       "      <td>-0.092429</td>\n",
       "      <td>0.018504</td>\n",
       "      <td>...</td>\n",
       "      <td>0.239203</td>\n",
       "      <td>0.486570</td>\n",
       "      <td>0.708646</td>\n",
       "      <td>0.841365</td>\n",
       "      <td>0.945107</td>\n",
       "      <td>1.000000</td>\n",
       "      <td>0.824620</td>\n",
       "      <td>0.698738</td>\n",
       "      <td>0.543845</td>\n",
       "      <td>0.119808</td>\n",
       "    </tr>\n",
       "    <tr>\n",
       "      <th>tqwt_kurtosisValue_dec_34</th>\n",
       "      <td>-0.058034</td>\n",
       "      <td>0.128936</td>\n",
       "      <td>0.046175</td>\n",
       "      <td>0.043454</td>\n",
       "      <td>-0.036406</td>\n",
       "      <td>-0.068664</td>\n",
       "      <td>-0.068561</td>\n",
       "      <td>0.046140</td>\n",
       "      <td>-0.061721</td>\n",
       "      <td>0.027886</td>\n",
       "      <td>...</td>\n",
       "      <td>0.139668</td>\n",
       "      <td>0.383328</td>\n",
       "      <td>0.587449</td>\n",
       "      <td>0.667325</td>\n",
       "      <td>0.729501</td>\n",
       "      <td>0.824620</td>\n",
       "      <td>1.000000</td>\n",
       "      <td>0.948008</td>\n",
       "      <td>0.785141</td>\n",
       "      <td>0.192345</td>\n",
       "    </tr>\n",
       "    <tr>\n",
       "      <th>tqwt_kurtosisValue_dec_35</th>\n",
       "      <td>-0.057807</td>\n",
       "      <td>0.107734</td>\n",
       "      <td>0.037385</td>\n",
       "      <td>0.067843</td>\n",
       "      <td>-0.018052</td>\n",
       "      <td>-0.069645</td>\n",
       "      <td>-0.069468</td>\n",
       "      <td>0.040828</td>\n",
       "      <td>-0.067636</td>\n",
       "      <td>0.010553</td>\n",
       "      <td>...</td>\n",
       "      <td>0.054510</td>\n",
       "      <td>0.275390</td>\n",
       "      <td>0.477147</td>\n",
       "      <td>0.550686</td>\n",
       "      <td>0.609663</td>\n",
       "      <td>0.698738</td>\n",
       "      <td>0.948008</td>\n",
       "      <td>1.000000</td>\n",
       "      <td>0.866696</td>\n",
       "      <td>0.219454</td>\n",
       "    </tr>\n",
       "    <tr>\n",
       "      <th>tqwt_kurtosisValue_dec_36</th>\n",
       "      <td>-0.055775</td>\n",
       "      <td>0.104828</td>\n",
       "      <td>0.039588</td>\n",
       "      <td>0.116699</td>\n",
       "      <td>0.021945</td>\n",
       "      <td>-0.062925</td>\n",
       "      <td>-0.062790</td>\n",
       "      <td>0.031685</td>\n",
       "      <td>-0.067147</td>\n",
       "      <td>0.003805</td>\n",
       "      <td>...</td>\n",
       "      <td>-0.108280</td>\n",
       "      <td>0.070046</td>\n",
       "      <td>0.290106</td>\n",
       "      <td>0.386061</td>\n",
       "      <td>0.467944</td>\n",
       "      <td>0.543845</td>\n",
       "      <td>0.785141</td>\n",
       "      <td>0.866696</td>\n",
       "      <td>1.000000</td>\n",
       "      <td>0.279827</td>\n",
       "    </tr>\n",
       "    <tr>\n",
       "      <th>class</th>\n",
       "      <td>-0.111661</td>\n",
       "      <td>0.182713</td>\n",
       "      <td>-0.072939</td>\n",
       "      <td>0.306070</td>\n",
       "      <td>0.247444</td>\n",
       "      <td>-0.284056</td>\n",
       "      <td>-0.284002</td>\n",
       "      <td>0.211368</td>\n",
       "      <td>0.074240</td>\n",
       "      <td>0.204228</td>\n",
       "      <td>...</td>\n",
       "      <td>-0.269892</td>\n",
       "      <td>-0.164034</td>\n",
       "      <td>-0.068688</td>\n",
       "      <td>-0.026954</td>\n",
       "      <td>0.048986</td>\n",
       "      <td>0.119808</td>\n",
       "      <td>0.192345</td>\n",
       "      <td>0.219454</td>\n",
       "      <td>0.279827</td>\n",
       "      <td>1.000000</td>\n",
       "    </tr>\n",
       "  </tbody>\n",
       "</table>\n",
       "<p>755 rows × 755 columns</p>\n",
       "</div>"
      ],
      "text/plain": [
       "                                 id    gender       PPE       DFA      RPDE  \\\n",
       "id                         1.000000 -0.133605  0.026667  0.041938 -0.084606   \n",
       "gender                    -0.133605  1.000000  0.010175  0.099356  0.168321   \n",
       "PPE                        0.026667  0.010175  1.000000 -0.094775 -0.405558   \n",
       "DFA                        0.041938  0.099356 -0.094775  1.000000  0.155075   \n",
       "RPDE                      -0.084606  0.168321 -0.405558  0.155075  1.000000   \n",
       "...                             ...       ...       ...       ...       ...   \n",
       "tqwt_kurtosisValue_dec_33 -0.053781  0.107618  0.045755 -0.033914 -0.097161   \n",
       "tqwt_kurtosisValue_dec_34 -0.058034  0.128936  0.046175  0.043454 -0.036406   \n",
       "tqwt_kurtosisValue_dec_35 -0.057807  0.107734  0.037385  0.067843 -0.018052   \n",
       "tqwt_kurtosisValue_dec_36 -0.055775  0.104828  0.039588  0.116699  0.021945   \n",
       "class                     -0.111661  0.182713 -0.072939  0.306070  0.247444   \n",
       "\n",
       "                           numPulses  numPeriodsPulses  meanPeriodPulses  \\\n",
       "id                          0.085828          0.085226         -0.100831   \n",
       "gender                     -0.478367         -0.477710          0.460422   \n",
       "PPE                         0.191535          0.194098         -0.201907   \n",
       "DFA                        -0.286791         -0.286611          0.253708   \n",
       "RPDE                       -0.521193         -0.524839          0.506707   \n",
       "...                              ...               ...               ...   \n",
       "tqwt_kurtosisValue_dec_33  -0.047946         -0.047837          0.039487   \n",
       "tqwt_kurtosisValue_dec_34  -0.068664         -0.068561          0.046140   \n",
       "tqwt_kurtosisValue_dec_35  -0.069645         -0.069468          0.040828   \n",
       "tqwt_kurtosisValue_dec_36  -0.062925         -0.062790          0.031685   \n",
       "class                      -0.284056         -0.284002          0.211368   \n",
       "\n",
       "                           stdDevPeriodPulses  locPctJitter  ...  \\\n",
       "id                                  -0.060464     -0.052865  ...   \n",
       "gender                              -0.110587      0.112004  ...   \n",
       "PPE                                 -0.423660     -0.349053  ...   \n",
       "DFA                                  0.084655      0.212120  ...   \n",
       "RPDE                                 0.333545      0.614340  ...   \n",
       "...                                       ...           ...  ...   \n",
       "tqwt_kurtosisValue_dec_33           -0.092429      0.018504  ...   \n",
       "tqwt_kurtosisValue_dec_34           -0.061721      0.027886  ...   \n",
       "tqwt_kurtosisValue_dec_35           -0.067636      0.010553  ...   \n",
       "tqwt_kurtosisValue_dec_36           -0.067147      0.003805  ...   \n",
       "class                                0.074240      0.204228  ...   \n",
       "\n",
       "                           tqwt_kurtosisValue_dec_28  \\\n",
       "id                                          0.036897   \n",
       "gender                                     -0.098689   \n",
       "PPE                                         0.144261   \n",
       "DFA                                        -0.146325   \n",
       "RPDE                                       -0.315592   \n",
       "...                                              ...   \n",
       "tqwt_kurtosisValue_dec_33                   0.239203   \n",
       "tqwt_kurtosisValue_dec_34                   0.139668   \n",
       "tqwt_kurtosisValue_dec_35                   0.054510   \n",
       "tqwt_kurtosisValue_dec_36                  -0.108280   \n",
       "class                                      -0.269892   \n",
       "\n",
       "                           tqwt_kurtosisValue_dec_29  \\\n",
       "id                                          0.016047   \n",
       "gender                                      0.000210   \n",
       "PPE                                         0.135544   \n",
       "DFA                                        -0.104456   \n",
       "RPDE                                       -0.278504   \n",
       "...                                              ...   \n",
       "tqwt_kurtosisValue_dec_33                   0.486570   \n",
       "tqwt_kurtosisValue_dec_34                   0.383328   \n",
       "tqwt_kurtosisValue_dec_35                   0.275390   \n",
       "tqwt_kurtosisValue_dec_36                   0.070046   \n",
       "class                                      -0.164034   \n",
       "\n",
       "                           tqwt_kurtosisValue_dec_30  \\\n",
       "id                                         -0.023317   \n",
       "gender                                      0.066091   \n",
       "PPE                                         0.091726   \n",
       "DFA                                        -0.061129   \n",
       "RPDE                                       -0.148989   \n",
       "...                                              ...   \n",
       "tqwt_kurtosisValue_dec_33                   0.708646   \n",
       "tqwt_kurtosisValue_dec_34                   0.587449   \n",
       "tqwt_kurtosisValue_dec_35                   0.477147   \n",
       "tqwt_kurtosisValue_dec_36                   0.290106   \n",
       "class                                      -0.068688   \n",
       "\n",
       "                           tqwt_kurtosisValue_dec_31  \\\n",
       "id                                         -0.045943   \n",
       "gender                                      0.083499   \n",
       "PPE                                         0.065035   \n",
       "DFA                                        -0.063451   \n",
       "RPDE                                       -0.101467   \n",
       "...                                              ...   \n",
       "tqwt_kurtosisValue_dec_33                   0.841365   \n",
       "tqwt_kurtosisValue_dec_34                   0.667325   \n",
       "tqwt_kurtosisValue_dec_35                   0.550686   \n",
       "tqwt_kurtosisValue_dec_36                   0.386061   \n",
       "class                                      -0.026954   \n",
       "\n",
       "                           tqwt_kurtosisValue_dec_32  \\\n",
       "id                                         -0.041835   \n",
       "gender                                      0.089793   \n",
       "PPE                                         0.044163   \n",
       "DFA                                        -0.061845   \n",
       "RPDE                                       -0.098923   \n",
       "...                                              ...   \n",
       "tqwt_kurtosisValue_dec_33                   0.945107   \n",
       "tqwt_kurtosisValue_dec_34                   0.729501   \n",
       "tqwt_kurtosisValue_dec_35                   0.609663   \n",
       "tqwt_kurtosisValue_dec_36                   0.467944   \n",
       "class                                       0.048986   \n",
       "\n",
       "                           tqwt_kurtosisValue_dec_33  \\\n",
       "id                                         -0.053781   \n",
       "gender                                      0.107618   \n",
       "PPE                                         0.045755   \n",
       "DFA                                        -0.033914   \n",
       "RPDE                                       -0.097161   \n",
       "...                                              ...   \n",
       "tqwt_kurtosisValue_dec_33                   1.000000   \n",
       "tqwt_kurtosisValue_dec_34                   0.824620   \n",
       "tqwt_kurtosisValue_dec_35                   0.698738   \n",
       "tqwt_kurtosisValue_dec_36                   0.543845   \n",
       "class                                       0.119808   \n",
       "\n",
       "                           tqwt_kurtosisValue_dec_34  \\\n",
       "id                                         -0.058034   \n",
       "gender                                      0.128936   \n",
       "PPE                                         0.046175   \n",
       "DFA                                         0.043454   \n",
       "RPDE                                       -0.036406   \n",
       "...                                              ...   \n",
       "tqwt_kurtosisValue_dec_33                   0.824620   \n",
       "tqwt_kurtosisValue_dec_34                   1.000000   \n",
       "tqwt_kurtosisValue_dec_35                   0.948008   \n",
       "tqwt_kurtosisValue_dec_36                   0.785141   \n",
       "class                                       0.192345   \n",
       "\n",
       "                           tqwt_kurtosisValue_dec_35  \\\n",
       "id                                         -0.057807   \n",
       "gender                                      0.107734   \n",
       "PPE                                         0.037385   \n",
       "DFA                                         0.067843   \n",
       "RPDE                                       -0.018052   \n",
       "...                                              ...   \n",
       "tqwt_kurtosisValue_dec_33                   0.698738   \n",
       "tqwt_kurtosisValue_dec_34                   0.948008   \n",
       "tqwt_kurtosisValue_dec_35                   1.000000   \n",
       "tqwt_kurtosisValue_dec_36                   0.866696   \n",
       "class                                       0.219454   \n",
       "\n",
       "                           tqwt_kurtosisValue_dec_36     class  \n",
       "id                                         -0.055775 -0.111661  \n",
       "gender                                      0.104828  0.182713  \n",
       "PPE                                         0.039588 -0.072939  \n",
       "DFA                                         0.116699  0.306070  \n",
       "RPDE                                        0.021945  0.247444  \n",
       "...                                              ...       ...  \n",
       "tqwt_kurtosisValue_dec_33                   0.543845  0.119808  \n",
       "tqwt_kurtosisValue_dec_34                   0.785141  0.192345  \n",
       "tqwt_kurtosisValue_dec_35                   0.866696  0.219454  \n",
       "tqwt_kurtosisValue_dec_36                   1.000000  0.279827  \n",
       "class                                       0.279827  1.000000  \n",
       "\n",
       "[755 rows x 755 columns]"
      ]
     },
     "execution_count": 51,
     "metadata": {},
     "output_type": "execute_result"
    }
   ],
   "source": [
    "df.corr()"
   ]
  },
  {
   "cell_type": "code",
   "execution_count": 52,
   "metadata": {},
   "outputs": [
    {
     "data": {
      "text/html": [
       "<div>\n",
       "<style scoped>\n",
       "    .dataframe tbody tr th:only-of-type {\n",
       "        vertical-align: middle;\n",
       "    }\n",
       "\n",
       "    .dataframe tbody tr th {\n",
       "        vertical-align: top;\n",
       "    }\n",
       "\n",
       "    .dataframe thead th {\n",
       "        text-align: right;\n",
       "    }\n",
       "</style>\n",
       "<table border=\"1\" class=\"dataframe\">\n",
       "  <thead>\n",
       "    <tr style=\"text-align: right;\">\n",
       "      <th></th>\n",
       "      <th>gender</th>\n",
       "      <th>PPE</th>\n",
       "      <th>DFA</th>\n",
       "      <th>RPDE</th>\n",
       "      <th>numPulses</th>\n",
       "      <th>class</th>\n",
       "    </tr>\n",
       "  </thead>\n",
       "  <tbody>\n",
       "    <tr>\n",
       "      <th>0</th>\n",
       "      <td>1</td>\n",
       "      <td>0.85247</td>\n",
       "      <td>0.71826</td>\n",
       "      <td>0.57227</td>\n",
       "      <td>240</td>\n",
       "      <td>1</td>\n",
       "    </tr>\n",
       "    <tr>\n",
       "      <th>1</th>\n",
       "      <td>1</td>\n",
       "      <td>0.76686</td>\n",
       "      <td>0.69481</td>\n",
       "      <td>0.53966</td>\n",
       "      <td>234</td>\n",
       "      <td>1</td>\n",
       "    </tr>\n",
       "    <tr>\n",
       "      <th>2</th>\n",
       "      <td>1</td>\n",
       "      <td>0.85083</td>\n",
       "      <td>0.67604</td>\n",
       "      <td>0.58982</td>\n",
       "      <td>232</td>\n",
       "      <td>1</td>\n",
       "    </tr>\n",
       "    <tr>\n",
       "      <th>3</th>\n",
       "      <td>0</td>\n",
       "      <td>0.41121</td>\n",
       "      <td>0.79672</td>\n",
       "      <td>0.59257</td>\n",
       "      <td>178</td>\n",
       "      <td>1</td>\n",
       "    </tr>\n",
       "    <tr>\n",
       "      <th>4</th>\n",
       "      <td>0</td>\n",
       "      <td>0.32790</td>\n",
       "      <td>0.79782</td>\n",
       "      <td>0.53028</td>\n",
       "      <td>236</td>\n",
       "      <td>1</td>\n",
       "    </tr>\n",
       "  </tbody>\n",
       "</table>\n",
       "</div>"
      ],
      "text/plain": [
       "   gender      PPE      DFA     RPDE  numPulses  class\n",
       "0       1  0.85247  0.71826  0.57227        240      1\n",
       "1       1  0.76686  0.69481  0.53966        234      1\n",
       "2       1  0.85083  0.67604  0.58982        232      1\n",
       "3       0  0.41121  0.79672  0.59257        178      1\n",
       "4       0  0.32790  0.79782  0.53028        236      1"
      ]
     },
     "execution_count": 52,
     "metadata": {},
     "output_type": "execute_result"
    }
   ],
   "source": [
    "dt=df.loc[:,'gender':'numPulses']\n",
    "dt['class']=df['class']\n",
    "dt.head()"
   ]
  },
  {
   "cell_type": "code",
   "execution_count": 53,
   "metadata": {},
   "outputs": [
    {
     "data": {
      "image/png": "[encoded data removed]",
      "text/plain": [
       "<Figure size 720x288 with 2 Axes>"
      ]
     },
     "metadata": {
      "needs_background": "light"
     },
     "output_type": "display_data"
    }
   ],
   "source": [
    "plt.figure(figsize=(10, 4))\n",
    "heatmap = sns.heatmap(dt.corr(),xticklabels=True, yticklabels=True, vmin=-1, vmax=1, annot=True, cmap=\"Blues\")"
   ]
  },
  {
   "cell_type": "code",
   "execution_count": 54,
   "metadata": {},
   "outputs": [],
   "source": [
    "x_data=df.iloc[:,0:-1].values\n",
    "xdf=df.iloc[:,0:-2]\n",
    "y_data=df.iloc[:,-1].values"
   ]
  },
  {
   "cell_type": "code",
   "execution_count": 55,
   "metadata": {},
   "outputs": [
    {
     "data": {
      "text/plain": [
       "(756,)"
      ]
     },
     "execution_count": 55,
     "metadata": {},
     "output_type": "execute_result"
    }
   ],
   "source": [
    "y_data.shape"
   ]
  },
  {
   "cell_type": "markdown",
   "metadata": {},
   "source": [
    "# SVM #"
   ]
  },
  {
   "cell_type": "code",
   "execution_count": 56,
   "metadata": {},
   "outputs": [],
   "source": [
    "from sklearn.model_selection import train_test_split\n",
    "  \n",
    "x_train, x_test, y_train, y_test = train_test_split(x_data, y_data, test_size = 0.25, random_state = 0)"
   ]
  },
  {
   "cell_type": "code",
   "execution_count": 57,
   "metadata": {},
   "outputs": [],
   "source": [
    "from sklearn.preprocessing import StandardScaler\n",
    "sc = StandardScaler()\n",
    "x_train = sc.fit_transform(x_train)\n",
    "x_test = sc.transform(x_test)"
   ]
  },
  {
   "cell_type": "code",
   "execution_count": 58,
   "metadata": {
    "scrolled": true
   },
   "outputs": [],
   "source": [
    "from sklearn.decomposition import PCA\n",
    "  \n",
    "pca = PCA(n_components =75, svd_solver='full')\n",
    "\n",
    "x_train = pca.fit_transform(x_train)\n",
    "x_test = pca.transform(x_test)\n",
    "  \n",
    "explained_variance = pca.explained_variance_ratio_"
   ]
  },
  {
   "cell_type": "code",
   "execution_count": 59,
   "metadata": {
    "scrolled": true
   },
   "outputs": [
    {
     "data": {
      "text/plain": [
       "SVC(C=0.001, gamma='auto', kernel='linear', random_state=0)"
      ]
     },
     "execution_count": 59,
     "metadata": {},
     "output_type": "execute_result"
    }
   ],
   "source": [
    "from sklearn.svm import SVC # \"Support vector classifier\"  \n",
    "classifier = SVC(kernel='linear', random_state=0, C= 0.001, gamma = 'auto')  \n",
    "classifier.fit(x_train, y_train) "
   ]
  },
  {
   "cell_type": "code",
   "execution_count": 60,
   "metadata": {},
   "outputs": [],
   "source": [
    "y_pred=classifier.predict(x_test)"
   ]
  },
  {
   "cell_type": "code",
   "execution_count": 61,
   "metadata": {},
   "outputs": [
    {
     "data": {
      "text/plain": [
       "0.8571428571428571"
      ]
     },
     "execution_count": 61,
     "metadata": {},
     "output_type": "execute_result"
    }
   ],
   "source": [
    "from sklearn.metrics import accuracy_score\n",
    "accuracy_score(y_test, y_pred)"
   ]
  },
  {
   "cell_type": "code",
   "execution_count": 62,
   "metadata": {},
   "outputs": [
    {
     "data": {
      "text/plain": [
       "array([[ 25,  20],\n",
       "       [  7, 137]])"
      ]
     },
     "execution_count": 62,
     "metadata": {},
     "output_type": "execute_result"
    }
   ],
   "source": [
    "from sklearn.metrics import confusion_matrix\n",
    "\n",
    "confusion_matrix(y_test, y_pred)\n"
   ]
  },
  {
   "cell_type": "code",
   "execution_count": 63,
   "metadata": {},
   "outputs": [
    {
     "data": {
      "image/png": "[encoded data removed]",
      "text/plain": [
       "<Figure size 432x288 with 2 Axes>"
      ]
     },
     "metadata": {
      "needs_background": "light"
     },
     "output_type": "display_data"
    }
   ],
   "source": [
    "from sklearn.metrics import plot_confusion_matrix\n",
    "plot_confusion_matrix(classifier, x_test, y_test, cmap=\"Blues\")  \n",
    "plt.show()"
   ]
  },
  {
   "cell_type": "code",
   "execution_count": null,
   "metadata": {},
   "outputs": [],
   "source": []
  },
  {
   "cell_type": "markdown",
   "metadata": {},
   "source": [
    "# Logistic Regression"
   ]
  },
  {
   "cell_type": "code",
   "execution_count": 64,
   "metadata": {},
   "outputs": [
    {
     "data": {
      "text/plain": [
       "LogisticRegression(random_state=0, solver='liblinear')"
      ]
     },
     "execution_count": 64,
     "metadata": {},
     "output_type": "execute_result"
    }
   ],
   "source": [
    "from sklearn.linear_model import LogisticRegression\n",
    "clfLR = LogisticRegression(solver='liblinear', random_state=0)\n",
    "clfLR"
   ]
  },
  {
   "cell_type": "code",
   "execution_count": 65,
   "metadata": {},
   "outputs": [],
   "source": [
    "x_data=df.iloc[:,0:-1].values\n",
    "xdf=df.iloc[:,0:-2]\n",
    "y_data=df.iloc[:,-1].values\n",
    "x_train, x_test, y_train, y_test = train_test_split(x_data, y_data, test_size = 0.25, random_state = 0)\n"
   ]
  },
  {
   "cell_type": "code",
   "execution_count": 66,
   "metadata": {},
   "outputs": [],
   "source": [
    "x_train = sc.fit_transform(x_train)\n",
    "x_test = sc.transform(x_test)"
   ]
  },
  {
   "cell_type": "code",
   "execution_count": 67,
   "metadata": {},
   "outputs": [],
   "source": [
    "pcaLR = PCA(n_components =110, svd_solver='full')\n",
    "\n",
    "x_train = pcaLR.fit_transform(x_train)\n",
    "x_test = pcaLR.transform(x_test)\n",
    "  \n",
    "explained_variance = pca.explained_variance_ratio_"
   ]
  },
  {
   "cell_type": "code",
   "execution_count": 68,
   "metadata": {},
   "outputs": [
    {
     "data": {
      "text/plain": [
       "0.8465608465608465"
      ]
     },
     "execution_count": 68,
     "metadata": {},
     "output_type": "execute_result"
    }
   ],
   "source": [
    "clfLR.fit(x_train,y_train)\n",
    "y_pred=clfLR.predict(x_test)\n",
    "accuracy_score(y_test, y_pred)"
   ]
  },
  {
   "cell_type": "code",
   "execution_count": 69,
   "metadata": {},
   "outputs": [
    {
     "data": {
      "image/png": "[encoded data removed]",
      "text/plain": [
       "<Figure size 432x288 with 2 Axes>"
      ]
     },
     "metadata": {
      "needs_background": "light"
     },
     "output_type": "display_data"
    }
   ],
   "source": [
    "plot_confusion_matrix(clfLR,x_test, y_test, cmap=\"Blues\")  \n",
    "plt.show()"
   ]
  },
  {
   "cell_type": "markdown",
   "metadata": {},
   "source": [
    "# KNN #"
   ]
  },
  {
   "cell_type": "code",
   "execution_count": 70,
   "metadata": {},
   "outputs": [],
   "source": [
    "from sklearn.neighbors import KNeighborsClassifier\n",
    "\n",
    "x_train, x_test, y_train, y_test = train_test_split(x_data, y_data, test_size = 0.25, random_state = 0)"
   ]
  },
  {
   "cell_type": "code",
   "execution_count": 71,
   "metadata": {},
   "outputs": [],
   "source": [
    "# s = StandardScaler()  \n",
    "# s.fit(x_train)\n",
    " \n",
    "x_train = sc.fit_transform(x_train)  \n",
    "x_test = sc.transform(x_test)"
   ]
  },
  {
   "cell_type": "code",
   "execution_count": 72,
   "metadata": {},
   "outputs": [],
   "source": [
    "# pcaKNN = PCA(n_components =5, svd_solver='full')\n",
    "\n",
    "# x_train = pcaKNN.fit_transform(x_train)\n",
    "# x_test = pcaKNN.transform(x_test)\n",
    "  \n",
    "# explained_variance = pcaKNN.explained_variance_ratio_"
   ]
  },
  {
   "cell_type": "code",
   "execution_count": 73,
   "metadata": {},
   "outputs": [],
   "source": [
    "K = []\n",
    "training = []\n",
    "test = []\n",
    "scores = {}\n",
    "  \n",
    "for k in range(2, 21):\n",
    "    clf = KNeighborsClassifier(n_neighbors = k)\n",
    "    clf.fit(x_train, y_train)\n",
    "  \n",
    "    training_score = clf.score(x_train, y_train)\n",
    "    test_score = clf.score(x_test, y_test)\n",
    "    K.append(k)\n",
    "  \n",
    "    training.append(training_score)\n",
    "    test.append(test_score)\n",
    "    scores[k] = [training_score, test_score]"
   ]
  },
  {
   "cell_type": "code",
   "execution_count": 74,
   "metadata": {},
   "outputs": [
    {
     "name": "stdout",
     "output_type": "stream",
     "text": [
      "2 : [0.9805996472663139, 0.8783068783068783]\n",
      "3 : [0.9611992945326279, 0.873015873015873]\n",
      "4 : [0.9559082892416225, 0.8783068783068783]\n",
      "5 : [0.9206349206349206, 0.8518518518518519]\n",
      "6 : [0.9259259259259259, 0.8412698412698413]\n",
      "7 : [0.890652557319224, 0.8412698412698413]\n",
      "8 : [0.8994708994708994, 0.8253968253968254]\n",
      "9 : [0.8747795414462081, 0.8042328042328042]\n",
      "10 : [0.8853615520282186, 0.798941798941799]\n",
      "11 : [0.8447971781305115, 0.7936507936507936]\n",
      "12 : [0.8624338624338624, 0.798941798941799]\n",
      "13 : [0.8395061728395061, 0.798941798941799]\n",
      "14 : [0.8430335097001763, 0.8148148148148148]\n",
      "15 : [0.8324514991181657, 0.8095238095238095]\n",
      "16 : [0.8447971781305115, 0.8148148148148148]\n",
      "17 : [0.8271604938271605, 0.8201058201058201]\n",
      "18 : [0.8342151675485009, 0.8359788359788359]\n",
      "19 : [0.8289241622574955, 0.8148148148148148]\n",
      "20 : [0.8253968253968254, 0.8148148148148148]\n"
     ]
    }
   ],
   "source": [
    "for keys, values in scores.items():\n",
    "    print(keys, ':', values)"
   ]
  },
  {
   "cell_type": "code",
   "execution_count": 75,
   "metadata": {},
   "outputs": [
    {
     "data": {
      "image/png": "[encoded data removed]",
      "text/plain": [
       "<Figure size 432x288 with 1 Axes>"
      ]
     },
     "metadata": {
      "needs_background": "light"
     },
     "output_type": "display_data"
    }
   ],
   "source": [
    "ax = sns.stripplot(K, training);\n",
    "ax.set(xlabel ='values of k', ylabel ='Training Score')  \n",
    "  \n",
    "plt.show()"
   ]
  },
  {
   "cell_type": "code",
   "execution_count": 76,
   "metadata": {},
   "outputs": [
    {
     "data": {
      "image/png": "[encoded data removed]",
      "text/plain": [
       "<Figure size 432x288 with 1 Axes>"
      ]
     },
     "metadata": {
      "needs_background": "light"
     },
     "output_type": "display_data"
    }
   ],
   "source": [
    "ax = sns.stripplot(K, test);\n",
    "ax.set(xlabel ='values of k', ylabel ='Test Score')\n",
    "plt.show()"
   ]
  },
  {
   "cell_type": "code",
   "execution_count": 77,
   "metadata": {},
   "outputs": [
    {
     "data": {
      "image/png": "[encoded data removed]",
      "text/plain": [
       "<Figure size 432x288 with 1 Axes>"
      ]
     },
     "metadata": {
      "needs_background": "light"
     },
     "output_type": "display_data"
    }
   ],
   "source": [
    "plt.scatter(K, training, color ='k')\n",
    "plt.scatter(K, test, color ='g')\n",
    "plt.show()"
   ]
  },
  {
   "cell_type": "code",
   "execution_count": null,
   "metadata": {},
   "outputs": [],
   "source": []
  },
  {
   "cell_type": "markdown",
   "metadata": {},
   "source": [
    "# Decision Tree"
   ]
  },
  {
   "cell_type": "code",
   "execution_count": 78,
   "metadata": {},
   "outputs": [],
   "source": [
    "X = df.iloc[:, :-1].values  \n",
    "y = df.iloc[:, -1].values \n",
    "X_train, X_test, y_train, y_test = train_test_split(X, y, test_size=0.26)"
   ]
  },
  {
   "cell_type": "code",
   "execution_count": 79,
   "metadata": {},
   "outputs": [],
   "source": [
    "# s = StandardScaler()  \n",
    "# s.fit(X_train)\n",
    " \n",
    "X_train = sc.fit_transform(X_train)  \n",
    "X_test = sc.transform(X_test)"
   ]
  },
  {
   "cell_type": "code",
   "execution_count": 80,
   "metadata": {},
   "outputs": [
    {
     "name": "stdout",
     "output_type": "stream",
     "text": [
      "DecisionTreeRegressor(random_state=0)\n"
     ]
    }
   ],
   "source": [
    "from sklearn.tree import DecisionTreeRegressor\n",
    "\n",
    "clfDF = DecisionTreeRegressor(random_state=0)\n",
    " \n",
    "model = clfDF.fit(X_train, y_train)\n",
    "print(model)"
   ]
  },
  {
   "cell_type": "code",
   "execution_count": 81,
   "metadata": {},
   "outputs": [
    {
     "name": "stdout",
     "output_type": "stream",
     "text": [
      "Score is -0.10178970917225971\n"
     ]
    }
   ],
   "source": [
    "pred = model.predict(X_test) \n",
    "print(\"Score is\",model.score(X_test,y_test))"
   ]
  },
  {
   "cell_type": "code",
   "execution_count": 82,
   "metadata": {},
   "outputs": [
    {
     "name": "stdout",
     "output_type": "stream",
     "text": [
      "Score is -0.10178970917225971\n"
     ]
    }
   ],
   "source": [
    "pred = model.predict(X_test) \n",
    "print(\"Score is\",model.score(X_test,y_test))"
   ]
  },
  {
   "cell_type": "code",
   "execution_count": null,
   "metadata": {},
   "outputs": [],
   "source": []
  }
 ],
 "metadata": {
  "kernelspec": {
   "display_name": "Python 3.7",
   "language": "python",
   "name": "python3"
  },
  "language_info": {
   "codemirror_mode": {
    "name": "ipython",
    "version": 3
   },
   "file_extension": ".py",
   "mimetype": "text/x-python",
   "name": "python",
   "nbconvert_exporter": "python",
   "pygments_lexer": "ipython3",
   "version": "3.7.10"
  }
 },
 "nbformat": 4,
 "nbformat_minor": 1
}
